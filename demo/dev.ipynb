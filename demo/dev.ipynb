{
 "cells": [
  {
   "cell_type": "code",
   "execution_count": 2,
   "metadata": {
    "collapsed": false
   },
   "outputs": [],
   "source": [
    "import os\n",
    "import numpy as np\n",
    "import pyjseisio as js\n",
    "import matplotlib.pyplot as p\n",
    "import matplotlib.colors as col\n",
    "%matplotlib inline"
   ]
  },
  {
   "cell_type": "code",
   "execution_count": 3,
   "metadata": {
    "collapsed": false
   },
   "outputs": [
    {
     "name": "stdout",
     "output_type": "stream",
     "text": [
      "['__builtins__', '__doc__', '__file__', '__name__', '__package__', '__path__', 'jsdataset', 'open']\n",
      "True\n"
     ]
    }
   ],
   "source": [
    "print dir(js)\n",
    "print os.path.isdir(\"/data/esdrd/eyms/python/pyjseisio/swigPythonTest/test/synth.js\")"
   ]
  },
  {
   "cell_type": "code",
   "execution_count": 4,
   "metadata": {
    "collapsed": false
   },
   "outputs": [
    {
     "name": "stdout",
     "output_type": "stream",
     "text": [
      "['__class__', '__delattr__', '__dict__', '__doc__', '__format__', '__getattr__', '__getattribute__', '__hash__', '__init__', '__module__', '__new__', '__reduce__', '__reduce_ex__', '__repr__', '__setattr__', '__sizeof__', '__str__', '__subclasshook__', '__weakref__', 'getAxisLabels', 'getAxisLogicalValues', 'getAxisPhyscialValues', 'getAxisUnits', 'getHeaderWords', 'hdrs', 'makeHeaderDict', 'makeReaderDelegates', 'readFrame', 'readFrameAndHdrs', 'reader']\n",
      "[[  0.00000000e+00   0.00000000e+00   0.00000000e+00 ...,   0.00000000e+00\n",
      "    0.00000000e+00   0.00000000e+00]\n",
      " [  0.00000000e+00   0.00000000e+00   0.00000000e+00 ...,   0.00000000e+00\n",
      "    0.00000000e+00   0.00000000e+00]\n",
      " [  0.00000000e+00   0.00000000e+00   0.00000000e+00 ...,   0.00000000e+00\n",
      "    0.00000000e+00   0.00000000e+00]\n",
      " ..., \n",
      " [  0.00000000e+00   0.00000000e+00   0.00000000e+00 ...,   0.00000000e+00\n",
      "    0.00000000e+00   0.00000000e+00]\n",
      " [  0.00000000e+00   0.00000000e+00   0.00000000e+00 ...,  -5.78039908e-04\n",
      "   -1.21692610e-04  -2.31121903e-05]\n",
      " [  0.00000000e+00   0.00000000e+00   0.00000000e+00 ...,   9.23999608e-01\n",
      "    5.56984305e-01   7.68833533e-02]]\n"
     ]
    }
   ],
   "source": [
    "\n",
    "dataset = js.open(\"/data/esdrd/eyms/python/pyjseisio/swigPythonTest/test/synth.js\")\n",
    "print dir(dataset)\n",
    "x = dataset.readFrame(0)\n",
    "print x"
   ]
  },
  {
   "cell_type": "code",
   "execution_count": 5,
   "metadata": {
    "collapsed": false
   },
   "outputs": [
    {
     "name": "stdout",
     "output_type": "stream",
     "text": [
      "['AOFFSET', 'TFULL_E', 'EOJ', 'LINE_NO', 'CHAN', 'FILTERID', 'END_VOL', 'TIME_IND', 'IF_FLAG', 'TFULL_S', 'LSEG_SEQ', 'CDP_YD', 'SEQNO', 'OFFSET', 'CDP_Y', 'CDP_X', 'END_ENS', 'XLINE_NO', 'AMP_NORM', 'SKEWSTAT', 'IF_END', 'ILINE_NO', 'PAD_TRC', 'LEN_SURG', 'TOT_STAT', 'NA_STAT', 'DS_SEQNO', 'CDP_XD', 'TR_FOLD', 'TRC_TYPE', 'TLIVE_S', 'LSEG_END', 'CDP', 'TLIVE_E', 'TRACENO']\n"
     ]
    }
   ],
   "source": [
    "print dataset.hdrs.keys()"
   ]
  },
  {
   "cell_type": "code",
   "execution_count": 8,
   "metadata": {
    "collapsed": false
   },
   "outputs": [
    {
     "name": "stdout",
     "output_type": "stream",
     "text": [
      "50.0\n",
      "1\n",
      "12345.0\n"
     ]
    }
   ],
   "source": [
    "y = dataset.readFrameAndHdrs(0)[1]\n",
    "print dataset.hdrs['OFFSET'].getFloatVal(y[1][1])\n",
    "print dataset.hdrs['OFFSET'].setFloatVal(y[1][1],12345)\n",
    "print dataset.hdrs['OFFSET'].getVal(y[1][1])"
   ]
  },
  {
   "cell_type": "code",
   "execution_count": 7,
   "metadata": {
    "collapsed": false
   },
   "outputs": [
    {
     "data": {
      "text/plain": [
       "<matplotlib.image.AxesImage at 0x2b36a3206050>"
      ]
     },
     "execution_count": 7,
     "metadata": {},
     "output_type": "execute_result"
    },
    {
     "data": {
      "image/png": "[encoded data removed]",
      "text/plain": [
       "<matplotlib.figure.Figure at 0x2b36a11599d0>"
      ]
     },
     "metadata": {},
     "output_type": "display_data"
    }
   ],
   "source": [
    "p.imshow(x.transpose(), aspect=0.1, cmap='gray')"
   ]
  },
  {
   "cell_type": "code",
   "execution_count": null,
   "metadata": {
    "collapsed": false
   },
   "outputs": [],
   "source": []
  },
  {
   "cell_type": "code",
   "execution_count": null,
   "metadata": {
    "collapsed": false
   },
   "outputs": [],
   "source": []
  },
  {
   "cell_type": "code",
   "execution_count": null,
   "metadata": {
    "collapsed": true
   },
   "outputs": [],
   "source": []
  }
 ],
 "metadata": {
  "kernelspec": {
   "display_name": "Python 2",
   "language": "python",
   "name": "python2"
  },
  "language_info": {
   "codemirror_mode": {
    "name": "ipython",
    "version": 2
   },
   "file_extension": ".py",
   "mimetype": "text/x-python",
   "name": "python",
   "nbconvert_exporter": "python",
   "pygments_lexer": "ipython2",
   "version": "2.7.12"
  }
 },
 "nbformat": 4,
 "nbformat_minor": 1
}
