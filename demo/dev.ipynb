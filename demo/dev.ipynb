{
 "cells": [
  {
   "cell_type": "code",
   "execution_count": 7,
   "metadata": {
    "collapsed": false
   },
   "outputs": [],
   "source": [
    "import os\n",
    "import numpy as np\n",
    "import pyjseisio as js\n",
    "import matplotlib.pyplot as p\n",
    "import matplotlib.colors as col\n",
    "%matplotlib inline"
   ]
  },
  {
   "cell_type": "code",
   "execution_count": 8,
   "metadata": {
    "collapsed": false
   },
   "outputs": [
    {
     "name": "stdout",
     "output_type": "stream",
     "text": [
      "['__builtins__', '__doc__', '__file__', '__name__', '__package__', '__path__', 'jsdataset', 'open', 'pyjseisio']\n",
      "True\n"
     ]
    }
   ],
   "source": [
    "print dir(js)\n",
    "print os.path.isdir(\"../test/synth.js\")"
   ]
  },
  {
   "cell_type": "code",
   "execution_count": 30,
   "metadata": {
    "collapsed": false
   },
   "outputs": [],
   "source": [
    "\n",
    "dataset = js.open(\"../test/synth.js\")\n",
    "#print dir(dataset)\n",
    "x = dataset.readFrame(0)\n"
   ]
  },
  {
   "cell_type": "code",
   "execution_count": 31,
   "metadata": {
    "collapsed": false
   },
   "outputs": [
    {
     "name": "stdout",
     "output_type": "stream",
     "text": [
      "['AOFFSET', 'TFULL_E', 'EOJ', 'LINE_NO', 'CHAN', 'FILTERID', 'END_VOL', 'TIME_IND', 'IF_FLAG', 'TFULL_S', 'LSEG_SEQ', 'CDP_YD', 'SEQNO', 'OFFSET', 'CDP_Y', 'CDP_X', 'END_ENS', 'XLINE_NO', 'AMP_NORM', 'SKEWSTAT', 'IF_END', 'ILINE_NO', 'PAD_TRC', 'LEN_SURG', 'TOT_STAT', 'NA_STAT', 'DS_SEQNO', 'CDP_XD', 'TR_FOLD', 'TRC_TYPE', 'TLIVE_S', 'LSEG_END', 'CDP', 'TLIVE_E', 'TRACENO']\n"
     ]
    }
   ],
   "source": [
    "print dataset.hdrs.keys()"
   ]
  },
  {
   "cell_type": "code",
   "execution_count": 32,
   "metadata": {
    "collapsed": false
   },
   "outputs": [
    {
     "name": "stdout",
     "output_type": "stream",
     "text": [
      "500.0\n",
      "1\n",
      "12345.0\n"
     ]
    }
   ],
   "source": [
    "y = dataset.readFrameAndHdrs(0)[1]\n",
    "print dataset.hdrs['OFFSET'].getFloatVal(y[10])\n",
    "print dataset.hdrs['OFFSET'].setFloatVal(y[10],12345)\n",
    "print dataset.hdrs['OFFSET'].getVal(y[10])"
   ]
  },
  {
   "cell_type": "code",
   "execution_count": 33,
   "metadata": {
    "collapsed": false
   },
   "outputs": [
    {
     "data": {
      "text/plain": [
       "<matplotlib.image.AxesImage at 0x2af928ad8390>"
      ]
     },
     "execution_count": 33,
     "metadata": {},
     "output_type": "execute_result"
    },
    {
     "data": {
      "image/png": "[encoded data removed]",
      "text/plain": [
       "<matplotlib.figure.Figure at 0x2af922589dd0>"
      ]
     },
     "metadata": {},
     "output_type": "display_data"
    }
   ],
   "source": [
    "p.imshow(x.transpose(), aspect=0.1, cmap='gray')"
   ]
  },
  {
   "cell_type": "code",
   "execution_count": 36,
   "metadata": {
    "collapsed": false
   },
   "outputs": [
    {
     "data": {
      "image/png": "[encoded data removed]",
      "text/plain": [
       "<matplotlib.figure.Figure at 0x2af928aeeb10>"
      ]
     },
     "metadata": {},
     "output_type": "display_data"
    }
   ],
   "source": [
    "# try a histogram\n",
    "p.hist(x.flatten(), bins=100, range=(-1,1));\n"
   ]
  },
  {
   "cell_type": "code",
   "execution_count": null,
   "metadata": {
    "collapsed": false
   },
   "outputs": [],
   "source": []
  },
  {
   "cell_type": "code",
   "execution_count": null,
   "metadata": {
    "collapsed": true
   },
   "outputs": [],
   "source": []
  }
 ],
 "metadata": {
  "kernelspec": {
   "display_name": "Python 2",
   "language": "python",
   "name": "python2"
  },
  "language_info": {
   "codemirror_mode": {
    "name": "ipython",
    "version": 2
   },
   "file_extension": ".py",
   "mimetype": "text/x-python",
   "name": "python",
   "nbconvert_exporter": "python",
   "pygments_lexer": "ipython2",
   "version": "2.7.12"
  }
 },
 "nbformat": 4,
 "nbformat_minor": 1
}
